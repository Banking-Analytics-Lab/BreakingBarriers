{
 "cells": [
  {
   "cell_type": "code",
   "execution_count": null,
   "metadata": {},
   "outputs": [
    {
     "name": "stdout",
     "output_type": "stream",
     "text": [
      "Predicted probability of board appointment: 0.2415\n"
     ]
    }
   ],
   "source": [
    "import torch\n",
    "import random\n",
    "\n",
    "import warnings\n",
    "warnings.filterwarnings(\"ignore\")\n",
    "\n",
    "# 1. Define the Same Model Class\n",
    "class LSTMModel(torch.nn.Module):\n",
    "    def __init__(self, input_dim, hidden_dim):\n",
    "        super(LSTMModel, self).__init__()\n",
    "        self.lstm = torch.nn.LSTM(input_dim, hidden_dim, dropout=0.5, batch_first=True)\n",
    "        self.fc = torch.nn.Linear(hidden_dim, 1)\n",
    "\n",
    "    def forward(self, x, mask):\n",
    "        out, _ = self.lstm(x)\n",
    "        last_indices = mask.sum(dim=1).long() - 1\n",
    "        last_indices = last_indices.clamp(min=0)\n",
    "        batch_size = x.size(0)\n",
    "        out = out[torch.arange(batch_size), last_indices, :]\n",
    "        out = self.fc(out)\n",
    "        return out.squeeze()\n",
    "\n",
    "# 2. Function to Generate a Fake Individual\n",
    "def generate_fake_individual(input_dim=25, total_years=10, observed_years=6, value_range=(-3.0, 3.0)):\n",
    "    available_years = list(range(total_years))\n",
    "    selected_years = sorted(random.sample(available_years, observed_years))\n",
    "    data = []\n",
    "    for year in selected_years:\n",
    "        features = torch.empty(input_dim).uniform_(*value_range)\n",
    "        data.append(features)\n",
    "    return torch.stack(data)  # Shape: (observed_years, input_dim)\n",
    "\n",
    "# 3. Function to Predict Single Individual\n",
    "def predict_single_individual(model_path, network_sequence, input_dim, hidden_dim):\n",
    "    model = LSTMModel(input_dim=input_dim, hidden_dim=hidden_dim)\n",
    "    model.load_state_dict(torch.load(model_path))\n",
    "    model.eval()\n",
    "\n",
    "    # Prepare input\n",
    "    network_sequence = network_sequence.unsqueeze(0)  # (1, seq_len, input_dim)\n",
    "    mask = torch.ones((1, network_sequence.shape[1]))  # (1, seq_len)\n",
    "\n",
    "    with torch.no_grad():\n",
    "        output = model(network_sequence, mask)\n",
    "        prob = torch.sigmoid(output)\n",
    "\n",
    "    return prob.item()\n",
    "\n",
    "# 4. Full Workflow\n",
    "\n",
    "# Parameters\n",
    "input_dim = 25  # 5 channels × 5 measures\n",
    "hidden_dim = 64\n",
    "model_path = \"./all_all/model_valyear_2019.pth\" # pick a year as the model\n",
    "\n",
    "# Step 1: Generate a fake individual's network career\n",
    "sample_network_sequence = generate_fake_individual(\n",
    "    input_dim=input_dim,\n",
    "    total_years=10,\n",
    "    observed_years=6,\n",
    "    value_range=(-3.0, 3.0)\n",
    ")\n",
    "\n",
    "# Step 2: Clamp just to be safe\n",
    "sample_network_sequence = torch.clamp(sample_network_sequence, min=-3.0, max=3.0)\n",
    "\n",
    "# Step 3: Predict using the saved mini model\n",
    "predicted_probability = predict_single_individual(\n",
    "    model_path=model_path,\n",
    "    network_sequence=sample_network_sequence,\n",
    "    input_dim=input_dim,\n",
    "    hidden_dim=hidden_dim\n",
    ")\n",
    "\n",
    "# Step 4: Print the result\n",
    "print(f\"Predicted probability of board appointment: {predicted_probability:.4f}\")"
   ]
  },
  {
   "cell_type": "code",
   "execution_count": null,
   "metadata": {},
   "outputs": [],
   "source": []
  }
 ],
 "metadata": {
  "kernelspec": {
   "display_name": "Python 3",
   "language": "python",
   "name": "python3"
  },
  "language_info": {
   "codemirror_mode": {
    "name": "ipython",
    "version": 3
   },
   "file_extension": ".py",
   "mimetype": "text/x-python",
   "name": "python",
   "nbconvert_exporter": "python",
   "pygments_lexer": "ipython3",
   "version": "3.10.9"
  }
 },
 "nbformat": 4,
 "nbformat_minor": 2
}
